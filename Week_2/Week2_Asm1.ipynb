{
  "nbformat": 4,
  "nbformat_minor": 0,
  "metadata": {
    "colab": {
      "name": "Week2_Asm1",
      "provenance": [],
      "collapsed_sections": []
    },
    "kernelspec": {
      "name": "python3",
      "display_name": "Python 3"
    },
    "language_info": {
      "name": "python"
    }
  },
  "cells": [
    {
      "cell_type": "code",
      "metadata": {
        "id": "tu5fQ1LJmC4H"
      },
      "source": [
        "import numpy as np\n",
        "import matplotlib.pyplot as plt"
      ],
      "execution_count": 21,
      "outputs": []
    },
    {
      "cell_type": "markdown",
      "metadata": {
        "id": "AnJI7Nt7mLwJ"
      },
      "source": [
        "Problem 1:"
      ]
    },
    {
      "cell_type": "code",
      "metadata": {
        "colab": {
          "base_uri": "https://localhost:8080/"
        },
        "id": "7ECbVDopmMxq",
        "outputId": "734a5795-8e24-4bec-b6a8-87d2bf334ee9"
      },
      "source": [
        "x = np.arange(-50,  51)\n",
        "y = x*1/2 + 1\n",
        "y"
      ],
      "execution_count": 22,
      "outputs": [
        {
          "output_type": "execute_result",
          "data": {
            "text/plain": [
              "array([-24. , -23.5, -23. , -22.5, -22. , -21.5, -21. , -20.5, -20. ,\n",
              "       -19.5, -19. , -18.5, -18. , -17.5, -17. , -16.5, -16. , -15.5,\n",
              "       -15. , -14.5, -14. , -13.5, -13. , -12.5, -12. , -11.5, -11. ,\n",
              "       -10.5, -10. ,  -9.5,  -9. ,  -8.5,  -8. ,  -7.5,  -7. ,  -6.5,\n",
              "        -6. ,  -5.5,  -5. ,  -4.5,  -4. ,  -3.5,  -3. ,  -2.5,  -2. ,\n",
              "        -1.5,  -1. ,  -0.5,   0. ,   0.5,   1. ,   1.5,   2. ,   2.5,\n",
              "         3. ,   3.5,   4. ,   4.5,   5. ,   5.5,   6. ,   6.5,   7. ,\n",
              "         7.5,   8. ,   8.5,   9. ,   9.5,  10. ,  10.5,  11. ,  11.5,\n",
              "        12. ,  12.5,  13. ,  13.5,  14. ,  14.5,  15. ,  15.5,  16. ,\n",
              "        16.5,  17. ,  17.5,  18. ,  18.5,  19. ,  19.5,  20. ,  20.5,\n",
              "        21. ,  21.5,  22. ,  22.5,  23. ,  23.5,  24. ,  24.5,  25. ,\n",
              "        25.5,  26. ])"
            ]
          },
          "metadata": {
            "tags": []
          },
          "execution_count": 22
        }
      ]
    },
    {
      "cell_type": "markdown",
      "metadata": {
        "id": "X5FhIg8hm5kq"
      },
      "source": [
        "Problem 2:"
      ]
    },
    {
      "cell_type": "code",
      "metadata": {
        "colab": {
          "base_uri": "https://localhost:8080/"
        },
        "id": "RU2FWMMRm7hs",
        "outputId": "883e02fc-2cd9-4ccd-8e8a-4ab37b0bf35f"
      },
      "source": [
        "new_arr = np.stack((x,y), axis = 1)\n",
        "new_arr.shape"
      ],
      "execution_count": 23,
      "outputs": [
        {
          "output_type": "execute_result",
          "data": {
            "text/plain": [
              "(101, 2)"
            ]
          },
          "metadata": {
            "tags": []
          },
          "execution_count": 23
        }
      ]
    },
    {
      "cell_type": "markdown",
      "metadata": {
        "id": "K3UHS2spotp4"
      },
      "source": [
        "Problem 3"
      ]
    },
    {
      "cell_type": "code",
      "metadata": {
        "colab": {
          "base_uri": "https://localhost:8080/"
        },
        "id": "XbJ-FIrdpQh1",
        "outputId": "d5c64c2b-3cb8-40c5-95c7-498079e5c320"
      },
      "source": [
        "x_gradient = x[1:] - x[:-1]\n",
        "y_gradient = y[1:] - y[:-1]\n",
        "\n",
        "gradient = y_gradient - x_gradient\n",
        "gradient"
      ],
      "execution_count": 32,
      "outputs": [
        {
          "output_type": "execute_result",
          "data": {
            "text/plain": [
              "array([-0.5, -0.5, -0.5, -0.5, -0.5, -0.5, -0.5, -0.5, -0.5, -0.5, -0.5,\n",
              "       -0.5, -0.5, -0.5, -0.5, -0.5, -0.5, -0.5, -0.5, -0.5, -0.5, -0.5,\n",
              "       -0.5, -0.5, -0.5, -0.5, -0.5, -0.5, -0.5, -0.5, -0.5, -0.5, -0.5,\n",
              "       -0.5, -0.5, -0.5, -0.5, -0.5, -0.5, -0.5, -0.5, -0.5, -0.5, -0.5,\n",
              "       -0.5, -0.5, -0.5, -0.5, -0.5, -0.5, -0.5, -0.5, -0.5, -0.5, -0.5,\n",
              "       -0.5, -0.5, -0.5, -0.5, -0.5, -0.5, -0.5, -0.5, -0.5, -0.5, -0.5,\n",
              "       -0.5, -0.5, -0.5, -0.5, -0.5, -0.5, -0.5, -0.5, -0.5, -0.5, -0.5,\n",
              "       -0.5, -0.5, -0.5, -0.5, -0.5, -0.5, -0.5, -0.5, -0.5, -0.5, -0.5,\n",
              "       -0.5, -0.5, -0.5, -0.5, -0.5, -0.5, -0.5, -0.5, -0.5, -0.5, -0.5,\n",
              "       -0.5])"
            ]
          },
          "metadata": {
            "tags": []
          },
          "execution_count": 32
        }
      ]
    },
    {
      "cell_type": "markdown",
      "metadata": {
        "id": "BByig1kcqIJT"
      },
      "source": [
        "Problem 4:\n"
      ]
    },
    {
      "cell_type": "code",
      "metadata": {
        "colab": {
          "base_uri": "https://localhost:8080/",
          "height": 279
        },
        "id": "QW3p1LoZqJoO",
        "outputId": "078a6798-7db8-42aa-e08b-e7fe6edbbbf1"
      },
      "source": [
        "plt.xlabel('x')\n",
        "plt.xlim(-60, 60)\n",
        "plt.ylabel('y')\n",
        "plt.plot(x, y)\n",
        "plt.plot(x[:-1], gradient)\n",
        "plt.show()"
      ],
      "execution_count": 33,
      "outputs": [
        {
          "output_type": "display_data",
          "data": {
            "image/png": "[encoded data removed]",
            "text/plain": [
              "<Figure size 432x288 with 1 Axes>"
            ]
          },
          "metadata": {
            "tags": [],
            "needs_background": "light"
          }
        }
      ]
    },
    {
      "cell_type": "markdown",
      "metadata": {
        "id": "efqbfow9rOs5"
      },
      "source": [
        "Problem 5:"
      ]
    },
    {
      "cell_type": "code",
      "metadata": {
        "id": "Ep314xnzrP2u"
      },
      "source": [
        "def compute_gradient(function, x_range=(-50, 50.1, 0.1)):\n",
        "    \"\"\"\n",
        "    Calculate the gradient using the amount of change.\n",
        "    Parameters\n",
        "    ----------------\n",
        "    function : function\n",
        "      The function you want to find, the one that returns the ndarray of y when you put the ndarray of x.\n",
        "    x_range : tuple\n",
        "      Specify the range in the same way as the argument of np.arange ().\n",
        "    Returns\n",
        "    ----------------\n",
        "    array_xy : ndarray, shape(n, 2)\n",
        "      A combination of x and y. n depends on x_range.\n",
        "    gradient : ndarray, shape(n-1,)\n",
        "      Function gradient. One factor is reduced to make a difference\n",
        "    \"\"\"\n",
        "    x = np.arange(*x_range)\n",
        "    y = function(x)\n",
        "\n",
        "\n",
        "    array_xy = np.stack((x,y),axis =1)\n",
        "    x_gradient = x[1:] - x[:-1]\n",
        "    y_gradient = y[1:] - y[:-1]\n",
        "\n",
        "    gradient = y_gradient - x_gradient\n",
        "    return array_xy, gradient\n",
        "def function1(array_x):\n",
        "    array_y = array_x**2\n",
        "    return array_y\n",
        "def function2(array_x):\n",
        "    array_y = 2 * (array_x ** 2) + 2**array_x\n",
        "    return array_y\n",
        "def function3(array_x):\n",
        "    array_y = np.sin(array_x ** 1/2)\n",
        "    return array_y\n",
        "def draw(arr):\n",
        "  xy, gradient = arr\n",
        "  x = xy[:, 0]\n",
        "  y = xy[:, 1]\n",
        "  plt.xlabel('x')\n",
        "  plt.xlim(-60, 60)\n",
        "  plt.ylabel('y')\n",
        "  plt.plot(x, y)\n",
        "  plt.plot(x[:-1], gradient)\n",
        "  plt.show()\n"
      ],
      "execution_count": 35,
      "outputs": []
    },
    {
      "cell_type": "code",
      "metadata": {
        "colab": {
          "base_uri": "https://localhost:8080/",
          "height": 279
        },
        "id": "8-sD5OI_tZkM",
        "outputId": "5c7c5f28-df57-4a75-c245-dc7238fa4b4d"
      },
      "source": [
        "draw(compute_gradient(function1))\n"
      ],
      "execution_count": 36,
      "outputs": [
        {
          "output_type": "display_data",
          "data": {
            "image/png": "[encoded data removed]",
            "text/plain": [
              "<Figure size 432x288 with 1 Axes>"
            ]
          },
          "metadata": {
            "tags": [],
            "needs_background": "light"
          }
        }
      ]
    },
    {
      "cell_type": "code",
      "metadata": {
        "colab": {
          "base_uri": "https://localhost:8080/",
          "height": 290
        },
        "id": "oRxmMe1rvUyR",
        "outputId": "97593d32-d433-41ef-9466-3973cb4630cf"
      },
      "source": [
        "draw(compute_gradient(function2))"
      ],
      "execution_count": 37,
      "outputs": [
        {
          "output_type": "display_data",
          "data": {
            "image/png": "[encoded data removed]",
            "text/plain": [
              "<Figure size 432x288 with 1 Axes>"
            ]
          },
          "metadata": {
            "tags": [],
            "needs_background": "light"
          }
        }
      ]
    },
    {
      "cell_type": "code",
      "metadata": {
        "colab": {
          "base_uri": "https://localhost:8080/",
          "height": 279
        },
        "id": "m2iQ-ejlvU1K",
        "outputId": "e7f03b03-be78-45de-a097-a8c8d8c10ba0"
      },
      "source": [
        "draw(compute_gradient(function3))"
      ],
      "execution_count": 38,
      "outputs": [
        {
          "output_type": "display_data",
          "data": {
            "image/png": "[encoded data removed]",
            "text/plain": [
              "<Figure size 432x288 with 1 Axes>"
            ]
          },
          "metadata": {
            "tags": [],
            "needs_background": "light"
          }
        }
      ]
    },
    {
      "cell_type": "markdown",
      "metadata": {
        "id": "0O_uvun0tGnk"
      },
      "source": [
        "Problem 6:"
      ]
    },
    {
      "cell_type": "code",
      "metadata": {
        "id": "Iw1qBs6ptJ3q"
      },
      "source": [
        "def getmin(function, x_range=(-50, 50.1, 0.1)):\n",
        "    x = np.arange(*x_range)\n",
        "    y = function(x)\n",
        "    array_xy = np.stack((x, y), axis=1)\n",
        "    \n",
        "    x_grad = x[:-1] - x[1:]\n",
        "    y_grad = y[:-1] - y[1:]\n",
        "    gradient = y_grad / x_grad\n",
        "    min = np.min(y)\n",
        "    idx = np.argmin(gradient)\n",
        "    slope_before = gradient[idx - 1]\n",
        "    slop_after = gradient[idx + 1]\n",
        "\n",
        "    return min, slope_before, slope_after"
      ],
      "execution_count": 39,
      "outputs": []
    }
  ]
}