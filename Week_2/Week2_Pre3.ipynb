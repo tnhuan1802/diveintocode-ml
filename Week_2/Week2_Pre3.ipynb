{
  "nbformat": 4,
  "nbformat_minor": 0,
  "metadata": {
    "colab": {
      "name": "Week2_Pre3",
      "provenance": [],
      "collapsed_sections": []
    },
    "kernelspec": {
      "name": "python3",
      "display_name": "Python 3"
    }
  },
  "cells": [
    {
      "cell_type": "markdown",
      "metadata": {
        "id": "aCvASDvIsEbn"
      },
      "source": [
        "Problem 1:\r\n",
        "\r\n",
        "\r\n",
        "The resulting matrix is a 3x3 matrix. Calculation is done by multiplying each row of the first matrix to each collumn of the second matrix. This result in [[ 6, 29, -20], [ 12, 52, 38], [-18, -51, -48]] matrix\r\n"
      ]
    },
    {
      "cell_type": "markdown",
      "metadata": {
        "id": "CI2phadcsTyA"
      },
      "source": [
        "Problem 2:"
      ]
    },
    {
      "cell_type": "code",
      "metadata": {
        "id": "sPcaGUcUsU_V"
      },
      "source": [
        "import numpy as np"
      ],
      "execution_count": 22,
      "outputs": []
    },
    {
      "cell_type": "code",
      "metadata": {
        "colab": {
          "base_uri": "https://localhost:8080/"
        },
        "id": "k95LZOFmsZu4",
        "outputId": "f0c8568a-0927-4da1-9fcb-25700b6b795c"
      },
      "source": [
        "a_ndarray = np.array([[-1, 2, 3], [4, -5, 6], [7, 8, -9]])\r\n",
        "b_ndarray = np.array([[0, 2, 1], [0, 2, -8], [2, 9, -1]])\r\n",
        "\r\n",
        "\r\n",
        "result = a_ndarray @ b_ndarray\r\n",
        "result"
      ],
      "execution_count": 23,
      "outputs": [
        {
          "output_type": "execute_result",
          "data": {
            "text/plain": [
              "array([[  6,  29, -20],\n",
              "       [ 12,  52,  38],\n",
              "       [-18, -51, -48]])"
            ]
          },
          "metadata": {
            "tags": []
          },
          "execution_count": 23
        }
      ]
    },
    {
      "cell_type": "markdown",
      "metadata": {
        "id": "DQ-CC2LbskXy"
      },
      "source": [
        "Problem 3 +4:"
      ]
    },
    {
      "cell_type": "code",
      "metadata": {
        "colab": {
          "base_uri": "https://localhost:8080/"
        },
        "id": "Ofz06RCZslXk",
        "outputId": "609a6f4b-c529-4d80-a69e-5d55a48e72c5"
      },
      "source": [
        "def myMatMul(a, b):\r\n",
        "  dimA = a.shape\r\n",
        "  dimB = b.shape\r\n",
        "  result = []\r\n",
        "  if dimA[1] != dimB[0]: raise IOError(\"Dimension error!\")\r\n",
        "\r\n",
        "  for i in range(dimA[0]):\r\n",
        "    for j in range(dimB[1]):\r\n",
        "      result.append(np.sum(a[i,:] * b[:,j]))\r\n",
        "\r\n",
        "  return np.array(result).reshape(dimA[0], dimB[1])\r\n",
        "\r\n",
        "ans = myMatMul(a_ndarray, b_ndarray)\r\n",
        "ans"
      ],
      "execution_count": 24,
      "outputs": [
        {
          "output_type": "execute_result",
          "data": {
            "text/plain": [
              "array([[  6,  29, -20],\n",
              "       [ 12,  52,  38],\n",
              "       [-18, -51, -48]])"
            ]
          },
          "metadata": {
            "tags": []
          },
          "execution_count": 24
        }
      ]
    },
    {
      "cell_type": "markdown",
      "metadata": {
        "id": "ZLlrkHVBxSqE"
      },
      "source": [
        "Problem 5:"
      ]
    },
    {
      "cell_type": "code",
      "metadata": {
        "id": "fjSlqfecxT_N"
      },
      "source": [
        "# d_ndarray_ = np.array([[-1, 2, 3], [4, -5, 6]])\r\n",
        "# e_ndarray = np.array([[-9, 8, 7], [6, -5, 4]])\r\n",
        "# print(myMatMul(d_ndarray_, e_ndarray))"
      ],
      "execution_count": 25,
      "outputs": []
    },
    {
      "cell_type": "markdown",
      "metadata": {
        "id": "CcCq4967yHr6"
      },
      "source": [
        "Problem 6:"
      ]
    },
    {
      "cell_type": "code",
      "metadata": {
        "colab": {
          "base_uri": "https://localhost:8080/"
        },
        "id": "2AiDlOmRyKE4",
        "outputId": "e0f01a64-2903-481b-87fd-146e838c4106"
      },
      "source": [
        "np.transpose(ans)"
      ],
      "execution_count": 30,
      "outputs": [
        {
          "output_type": "execute_result",
          "data": {
            "text/plain": [
              "array([[  6,  12, -18],\n",
              "       [ 29,  52, -51],\n",
              "       [-20,  38, -48]])"
            ]
          },
          "metadata": {
            "tags": []
          },
          "execution_count": 30
        }
      ]
    }
  ]
}