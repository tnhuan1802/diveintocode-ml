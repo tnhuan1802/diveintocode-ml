{
  "nbformat": 4,
  "nbformat_minor": 0,
  "metadata": {
    "colab": {
      "name": "Week2_Pre1",
      "provenance": []
    },
    "kernelspec": {
      "name": "python3",
      "display_name": "Python 3"
    }
  },
  "cells": [
    {
      "cell_type": "markdown",
      "metadata": {
        "id": "VBQK0q_fg2HT"
      },
      "source": [
        "Problem 1:"
      ]
    },
    {
      "cell_type": "code",
      "metadata": {
        "colab": {
          "base_uri": "https://localhost:8080/"
        },
        "id": "1umFhDceg32p",
        "outputId": "95c07311-be68-4eec-e4b9-14f250304003"
      },
      "source": [
        "import numpy as np\r\n",
        "\r\n",
        "n_squares = 4\r\n",
        "small_board_list = [1]\r\n",
        "for _ in range(n_squares - 1):\r\n",
        "    small_board_list.append(2*small_board_list[-1])\r\n",
        "small_board_ndarray = np.array(small_board_list).reshape(2, 2)\r\n",
        "print(\"Arrange wheat on a plate of 4 squares (ndarray)：{}\".format(small_board_ndarray))"
      ],
      "execution_count": 2,
      "outputs": [
        {
          "output_type": "stream",
          "text": [
            "Arrange wheat on a plate of 4 squares (ndarray)：[[1 2]\n",
            " [4 8]]\n"
          ],
          "name": "stdout"
        }
      ]
    },
    {
      "cell_type": "markdown",
      "metadata": {
        "id": "azO8xpeJhYPy"
      },
      "source": [
        "Problem 2:\r\n"
      ]
    },
    {
      "cell_type": "code",
      "metadata": {
        "colab": {
          "base_uri": "https://localhost:8080/"
        },
        "id": "voQtD3euhhRc",
        "outputId": "21529cd9-b2a2-4e3f-e888-0fd200a37f7b"
      },
      "source": [
        "import numpy as np\r\n",
        "\r\n",
        "\r\n",
        "def getBoardList(n):\r\n",
        "  small_board_list = [1]\r\n",
        "  for _ in range(n - 1):\r\n",
        "      small_board_list.append(2*small_board_list[-1])\r\n",
        "  return small_board_list\r\n",
        "\r\n",
        "\r\n",
        "def genNDArray(n, m):\r\n",
        "  return np.array(getBoardList(n * m), dtype = np.uint64).reshape(n, m)\r\n",
        "\r\n",
        "board = genNDArray(8, 8)\r\n",
        "print(board)"
      ],
      "execution_count": 4,
      "outputs": [
        {
          "output_type": "stream",
          "text": [
            "[[                  1                   2                   4\n",
            "                    8                  16                  32\n",
            "                   64                 128]\n",
            " [                256                 512                1024\n",
            "                 2048                4096                8192\n",
            "                16384               32768]\n",
            " [              65536              131072              262144\n",
            "               524288             1048576             2097152\n",
            "              4194304             8388608]\n",
            " [           16777216            33554432            67108864\n",
            "            134217728           268435456           536870912\n",
            "           1073741824          2147483648]\n",
            " [         4294967296          8589934592         17179869184\n",
            "          34359738368         68719476736        137438953472\n",
            "         274877906944        549755813888]\n",
            " [      1099511627776       2199023255552       4398046511104\n",
            "        8796093022208      17592186044416      35184372088832\n",
            "       70368744177664     140737488355328]\n",
            " [    281474976710656     562949953421312    1125899906842624\n",
            "     2251799813685248    4503599627370496    9007199254740992\n",
            "    18014398509481984   36028797018963968]\n",
            " [  72057594037927936  144115188075855872  288230376151711744\n",
            "   576460752303423488 1152921504606846976 2305843009213693952\n",
            "  4611686018427387904 9223372036854775808]]\n"
          ],
          "name": "stdout"
        }
      ]
    },
    {
      "cell_type": "markdown",
      "metadata": {
        "id": "VpTRlqBaiG58"
      },
      "source": [
        "Problem 3"
      ]
    },
    {
      "cell_type": "code",
      "metadata": {
        "colab": {
          "base_uri": "https://localhost:8080/",
          "height": 312
        },
        "id": "EylIIZf3iIJ0",
        "outputId": "099c6b3c-5808-4492-9397-81e64c4fa5d8"
      },
      "source": [
        "import numpy as np\r\n",
        "import matplotlib.pyplot as plt\r\n",
        "\r\n",
        "\r\n",
        "print(\"Total amount of wheat: {}\".format(np.sum(board)))\r\n",
        "mean = np.mean(board, axis = 0)\r\n",
        "%matplotlib inline\r\n",
        "plt.xlabel(\"column\")\r\n",
        "plt.ylabel(\"number of wheat\")\r\n",
        "plt.title(\"number in each column\")\r\n",
        "plt.bar(np.arange(1,mean.size + 1), mean)\r\n",
        "plt.show()"
      ],
      "execution_count": 6,
      "outputs": [
        {
          "output_type": "stream",
          "text": [
            "Total amount of wheat: 18446744073709551615\n"
          ],
          "name": "stdout"
        },
        {
          "output_type": "display_data",
          "data": {
            "image/png": "[encoded data removed]",
            "text/plain": [
              "<Figure size 432x288 with 1 Axes>"
            ]
          },
          "metadata": {
            "tags": [],
            "needs_background": "light"
          }
        }
      ]
    },
    {
      "cell_type": "markdown",
      "metadata": {
        "id": "XENLFUtJil0L"
      },
      "source": [
        "Problem 4"
      ]
    },
    {
      "cell_type": "code",
      "metadata": {
        "colab": {
          "base_uri": "https://localhost:8080/",
          "height": 295
        },
        "id": "uQxhSPnrimxd",
        "outputId": "747f5867-ee30-4ce0-b31a-bc6d47a22216"
      },
      "source": [
        "import numpy as np\r\n",
        "import matplotlib.pyplot as plt\r\n",
        "\r\n",
        "def getBoardList(n):\r\n",
        "  small_board_list = [1]\r\n",
        "  for _ in range(n - 1):\r\n",
        "      small_board_list.append(2*small_board_list[-1])\r\n",
        "  return small_board_list\r\n",
        "\r\n",
        "\r\n",
        "def genNDArray(n, m):\r\n",
        "  return np.array(getBoardList(n * m), dtype = np.uint64).reshape(n, m)\r\n",
        "\r\n",
        "board = genNDArray(8, 8)\r\n",
        "plt.xlabel(\"column\")\r\n",
        "plt.ylabel(\"row\")\r\n",
        "plt.title(\"heatmap\")\r\n",
        "plt.pcolor(board.reshape(8, 8))\r\n",
        "plt.show()"
      ],
      "execution_count": 7,
      "outputs": [
        {
          "output_type": "display_data",
          "data": {
            "image/png": "[encoded data removed]",
            "text/plain": [
              "<Figure size 432x288 with 1 Axes>"
            ]
          },
          "metadata": {
            "tags": [],
            "needs_background": "light"
          }
        }
      ]
    },
    {
      "cell_type": "markdown",
      "metadata": {
        "id": "qjDkXnbGi6Cv"
      },
      "source": [
        "Problem 5:"
      ]
    },
    {
      "cell_type": "code",
      "metadata": {
        "colab": {
          "base_uri": "https://localhost:8080/"
        },
        "id": "Uh_u_Ilqi7aL",
        "outputId": "d8bda016-eae9-4791-8ab7-63aca0e56679"
      },
      "source": [
        "import numpy as np\r\n",
        "\r\n",
        "def getBoardList(n):\r\n",
        "  small_board_list = [1]\r\n",
        "  for _ in range(n - 1):\r\n",
        "      small_board_list.append(2*small_board_list[-1])\r\n",
        "  return small_board_list\r\n",
        "\r\n",
        "\r\n",
        "def genNDArray(n, m):\r\n",
        "  return np.array(getBoardList(n * m), dtype = np.uint64).reshape(n, m)\r\n",
        "\r\n",
        "board = genNDArray(8, 8)\r\n",
        "first_half = np.sum(board[0:3])\r\n",
        "second_half = np.sum(board[4:7])\r\n",
        "\r\n",
        "print(\"{:.2f} times greater\".format(second_half / first_half))"
      ],
      "execution_count": 10,
      "outputs": [
        {
          "output_type": "stream",
          "text": [
            "4294967296.00 times greater\n"
          ],
          "name": "stdout"
        }
      ]
    },
    {
      "cell_type": "markdown",
      "metadata": {
        "id": "bQO1NNMPjWXp"
      },
      "source": [
        "Problem 6 + 7:"
      ]
    },
    {
      "cell_type": "code",
      "metadata": {
        "id": "NtqqKrpSjYDN"
      },
      "source": [
        "import numpy as np\r\n",
        "\r\n",
        "\r\n",
        "def genNDArray2(n, m):\r\n",
        "    board = np.array([1])\r\n",
        "    for _ in range(n * m - 1):\r\n",
        "        board = np.append(board, board[-1] * 2).astype(np.uint64)    \r\n",
        "    return board.reshape(n, m)\r\n",
        "\r\n",
        "def genNDArray3(n, m):\r\n",
        "  board = 2 ** np.arange(n * m, dtype = np.uint64)\r\n",
        "  return board.reshape(n, m)\r\n"
      ],
      "execution_count": 12,
      "outputs": []
    },
    {
      "cell_type": "code",
      "metadata": {
        "colab": {
          "base_uri": "https://localhost:8080/"
        },
        "id": "kUY4iRfNlUw8",
        "outputId": "dbc5dddd-9552-438f-f721-9acdeede3722"
      },
      "source": [
        "%%timeit\r\n",
        "genNDArray2(8,8)"
      ],
      "execution_count": 13,
      "outputs": [
        {
          "output_type": "stream",
          "text": [
            "The slowest run took 5.78 times longer than the fastest. This could mean that an intermediate result is being cached.\n",
            "1000 loops, best of 5: 638 µs per loop\n"
          ],
          "name": "stdout"
        }
      ]
    },
    {
      "cell_type": "code",
      "metadata": {
        "colab": {
          "base_uri": "https://localhost:8080/"
        },
        "id": "vWgzFrVolbMx",
        "outputId": "162d9953-99e0-4636-fdf8-a1813a88b524"
      },
      "source": [
        "%%timeit\r\n",
        "genNDArray3(8,8)"
      ],
      "execution_count": 14,
      "outputs": [
        {
          "output_type": "stream",
          "text": [
            "The slowest run took 22.20 times longer than the fastest. This could mean that an intermediate result is being cached.\n",
            "100000 loops, best of 5: 3.63 µs per loop\n"
          ],
          "name": "stdout"
        }
      ]
    }
  ]
}