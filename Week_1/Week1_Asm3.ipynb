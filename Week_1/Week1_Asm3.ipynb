{
  "nbformat": 4,
  "nbformat_minor": 0,
  "metadata": {
    "colab": {
      "name": "Week1_Asm3.ipynb",
      "provenance": [],
      "collapsed_sections": []
    },
    "kernelspec": {
      "name": "python3",
      "display_name": "Python 3"
    }
  },
  "cells": [
    {
      "cell_type": "markdown",
      "metadata": {
        "id": "IfSP9Xt-Zzhl"
      },
      "source": [
        "I assume the radius of a chestnut bun and solar system is 0.05 m and 287.46 x 10^12 m and the shape of them are sphere.\r\n"
      ]
    },
    {
      "cell_type": "code",
      "metadata": {
        "colab": {
          "base_uri": "https://localhost:8080/"
        },
        "id": "qfKrPKUuaLrW",
        "outputId": "0ae58ffc-09b3-48cb-c0ea-864f69c963ac"
      },
      "source": [
        "import math\r\n",
        "\r\n",
        "BUN_RADIUS = 0.05\r\n",
        "SOLAR_RADIUS = 287.46 * (10**12)\r\n",
        "DOME_VOLUME = 1.24 * (10**6)\r\n",
        "\r\n",
        "def getVolumeSphere(r):\r\n",
        "  return (4/3) * math.pi * (r**3)\r\n",
        "\r\n",
        "def time_to_cover(v1, v2): # Assume  v2 > v1\r\n",
        "  return 5 * math.log2(v2/v1)\r\n",
        "\r\n",
        "bun_volume = getVolumeSphere(BUN_RADIUS)\r\n",
        "solar_volume = getVolumeSphere(SOLAR_RADIUS)\r\n",
        "\r\n",
        "print(\"Time for a chestnut bun to cover solar system is {:.2f} minutes.\".format(time_to_cover(bun_volume,solar_volume)))\r\n",
        "\r\n",
        "print(\"Time for a chestnut bun to cover Tokyo Dome is {:.2f} minutes.\".format(time_to_cover(bun_volume,DOME_VOLUME)))"
      ],
      "execution_count": 5,
      "outputs": [
        {
          "output_type": "stream",
          "text": [
            "Time for a chestnut bun to cover solar system is 785.28 minutes.\n",
            "Time for a chestnut bun to cover Tokyo Dome is 155.71 minutes.\n"
          ],
          "name": "stdout"
        }
      ]
    }
  ]
}