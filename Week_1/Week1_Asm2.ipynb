{
  "nbformat": 4,
  "nbformat_minor": 0,
  "metadata": {
    "colab": {
      "name": "Week1_Asm2",
      "provenance": [],
      "collapsed_sections": []
    },
    "kernelspec": {
      "name": "python3",
      "display_name": "Python 3"
    }
  },
  "cells": [
    {
      "cell_type": "markdown",
      "metadata": {
        "id": "-jpUAb9yu2Ik"
      },
      "source": [
        "Problem 1"
      ]
    },
    {
      "cell_type": "code",
      "metadata": {
        "colab": {
          "base_uri": "https://localhost:8080/"
        },
        "id": "Mqmtlt5hu3J7",
        "outputId": "1a502e00-90d7-4c45-ed82-abde3bbd4641"
      },
      "source": [
        "import math\r\n",
        "INITIAL_THICKNESS = 0.00008\r\n",
        "\r\n",
        "def times_to_fold(thickness):\r\n",
        "    return math.log2(thickness/INITIAL_THICKNESS)\r\n",
        "input_thickness = input(\"Please input the thickness of choice: \")\r\n",
        "print(\"Total times of folding a paper to get {} meters of thickness is {:.2f} times\".format(input_thickness, times_to_fold(int(input_thickness))))"
      ],
      "execution_count": 8,
      "outputs": [
        {
          "output_type": "stream",
          "text": [
            "Please input the thickness of choice:3776\n",
            "Total times of folding a papar to get 3776 meters of thickness is 25.49 times\n"
          ],
          "name": "stdout"
        }
      ]
    },
    {
      "cell_type": "markdown",
      "metadata": {
        "id": "Qg3FxvrDvvPd"
      },
      "source": [
        "Problem 2"
      ]
    },
    {
      "cell_type": "markdown",
      "metadata": {
        "id": "yyBbx7x5xuvK"
      },
      "source": [
        "As far as I researched, the closest star to the Sun is Proxima Centuri, which is 4.2465 light-years away from the Sun in the southern constellation of Centaurus."
      ]
    },
    {
      "cell_type": "code",
      "metadata": {
        "colab": {
          "base_uri": "https://localhost:8080/"
        },
        "id": "FSG-5hNSx9Bd",
        "outputId": "2c05cbef-7746-451d-bd83-0c9f35080099"
      },
      "source": [
        "# 1 light year = 9.4605284 × 10^12 kilometers\r\n",
        "# The distance from earth to Proxima Centuri is 4.2465 light-years\r\n",
        "def times_to_fold(thickness,INITIAL_THICKNESS):\r\n",
        "    return math.log2(thickness/INITIAL_THICKNESS)\r\n",
        "initial_thickness = input(\"Please input the initial thickness of choice: \")\r\n",
        "print(\"Total times of folding a paper to reach Proxima Centuri is {:.2f} times\".format(times_to_fold(9.4605284 * (10**15) * 4.2465 , float(initial_thickness))))"
      ],
      "execution_count": 12,
      "outputs": [
        {
          "output_type": "stream",
          "text": [
            "Please input the initial thickness of choice: 1\n",
            "Total times of folding a paper to reach Proxima Centuri is 45.19 times\n"
          ],
          "name": "stdout"
        }
      ]
    },
    {
      "cell_type": "markdown",
      "metadata": {
        "id": "59t4mczZzLe8"
      },
      "source": [
        "Problem 3"
      ]
    },
    {
      "cell_type": "code",
      "metadata": {
        "colab": {
          "base_uri": "https://localhost:8080/"
        },
        "id": "Ylubpjp-zMYj",
        "outputId": "fde9dcb6-3a25-4768-fd39-b6791b9bf975"
      },
      "source": [
        "import math\r\n",
        "# 1 light year = 9.4605284 × 10^12 km\r\n",
        "# The distance from Earth to Proxima Centuri is 4.2465 light-years\r\n",
        "# The distance from Earth to the Moon is 384 400 km\r\n",
        "# The height of Mount Fuji is 3.776 m\r\n",
        "DISTANCE_TO_MOON = 384400 * (10**3)\r\n",
        "HEIGHT_OF_FUJI = 3776\r\n",
        "DISTANCE_TO_PC = 9.4605284 * (10**15) * 4.2465\r\n",
        "\r\n",
        "# Assume the initial THJCKNESS is 1 meter\r\n",
        "INITIAL_THICKNESS = 1\r\n",
        "def times_to_fold(thickness, initial_thickness):\r\n",
        "    return math.log2(thickness/initial_thickness)\r\n",
        "\r\n",
        "def length_calc(initial_thickness, n):\r\n",
        "    return (math.pi/6)  * initial_thickness * ((2**n) + 4) * ((2**n) - 1)\r\n",
        "\r\n",
        "def length_required(thickness, initial_thickness):\r\n",
        "    return length_calc(initial_thickness, times_to_fold(thickness, initial_thickness))\r\n",
        "print(\"Length of paper needed to reach Mount Fuji : {:.2f} meters\".format(length_required(HEIGHT_OF_FUJI, INITIAL_THICKNESS)))\r\n",
        "print(\"Length of paper needed to reach Moon : {:.2f} meters\".format(length_required(DISTANCE_TO_MOON, INITIAL_THICKNESS)))\r\n",
        "print(\"Length of paper needed to reach Proxima Centuri : {:.2f} meters\".format(length_required(DISTANCE_TO_PC, INITIAL_THICKNESS)))"
      ],
      "execution_count": 13,
      "outputs": [
        {
          "output_type": "stream",
          "text": [
            "Length of paper needed to reach Mount Fuji : 7471492.73 meters\n",
            "Length of paper needed to reach Moon : 77368714978104752.00 meters\n",
            "Length of paper needed to reach Proxima Centuri : 845068019509577924678980709908480.00 meters\n"
          ],
          "name": "stdout"
        }
      ]
    }
  ]
}