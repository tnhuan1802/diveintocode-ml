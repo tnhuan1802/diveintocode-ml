{
 "cells": [
  {
   "cell_type": "markdown",
   "metadata": {},
   "source": [
    "For the problem 4, after several experiments, i found out that if i use the first method, the calculation time will be nearly 2 times faster than the second for the case that folded times is 10.000.000. However, because in our problem, the initial thickness is a float number, hence in the first method, the result of 2 powers by folded times has to be converted to float but it is way too big to be converted. \n",
    "In conclusion, I think both methods have it benefits, if the folded times is small, we should choose the first method. On the other hand, if the folded times is extremely big, we have no choices but choose the second method."
   ]
  }
 ],
 "metadata": {
  "kernelspec": {
   "display_name": "Python 3",
   "language": "python",
   "name": "python3"
  },
  "language_info": {
   "codemirror_mode": {
    "name": "ipython",
    "version": 3
   },
   "file_extension": ".py",
   "mimetype": "text/x-python",
   "name": "python",
   "nbconvert_exporter": "python",
   "pygments_lexer": "ipython3",
   "version": "3.8.5"
  }
 },
 "nbformat": 4,
 "nbformat_minor": 4
}
