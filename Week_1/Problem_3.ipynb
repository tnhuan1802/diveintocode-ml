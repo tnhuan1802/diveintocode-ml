{
 "cells": [
  {
   "cell_type": "code",
   "execution_count": 5,
   "metadata": {},
   "outputs": [
    {
     "name": "stdout",
     "output_type": "stream",
     "text": [
      "Thickness: 703687441.77664 meters\n",
      "Thickness:  703687.44 kilometers\n"
     ]
    }
   ],
   "source": [
    "THICKNESS = 0.00008\n",
    "FOLDED_TIMES = 43\n",
    "folded_thickness = THICKNESS\n",
    "for i in range(FOLDED_TIMES):\n",
    "    folded_thickness *= 2\n",
    "print(\"Thickness: {} meters\".format(folded_thickness))\n",
    "# Convert meters to kilometers and display with two decimal places\n",
    "print(\"Thickness: {: .2f} kilometers\".format(folded_thickness/1000))"
   ]
  },
  {
   "cell_type": "code",
   "execution_count": null,
   "metadata": {},
   "outputs": [],
   "source": []
  }
 ],
 "metadata": {
  "kernelspec": {
   "display_name": "Python 3",
   "language": "python",
   "name": "python3"
  },
  "language_info": {
   "codemirror_mode": {
    "name": "ipython",
    "version": 3
   },
   "file_extension": ".py",
   "mimetype": "text/x-python",
   "name": "python",
   "nbconvert_exporter": "python",
   "pygments_lexer": "ipython3",
   "version": "3.8.5"
  }
 },
 "nbformat": 4,
 "nbformat_minor": 4
}
