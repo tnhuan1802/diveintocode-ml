{
  "nbformat": 4,
  "nbformat_minor": 0,
  "metadata": {
    "colab": {
      "name": "Week1_Asm1",
      "provenance": [],
      "collapsed_sections": []
    },
    "kernelspec": {
      "name": "python3",
      "display_name": "Python 3"
    }
  },
  "cells": [
    {
      "cell_type": "markdown",
      "metadata": {
        "id": "hi6VWO1sjd_2"
      },
      "source": [
        "Problem 1"
      ]
    },
    {
      "cell_type": "code",
      "metadata": {
        "colab": {
          "base_uri": "https://localhost:8080/",
          "height": 295
        },
        "id": "om6GFtk9jiZ5",
        "outputId": "fd5ef29e-0435-44a8-c6bc-90abaac67416"
      },
      "source": [
        "import matplotlib.pyplot as plt\r\n",
        "%matplotlib inline\r\n",
        "\r\n",
        "obtained_grains = INITIAL_GRAINS = 1\r\n",
        "record = [INITIAL_GRAINS]\r\n",
        "total_grains_obtained = [INITIAL_GRAINS]\r\n",
        "for i in range(100):\r\n",
        "  obtained_grains *= 2\r\n",
        "  record.append(obtained_grains)\r\n",
        "  total_grains_obtained.append(obtained_grains + total_grains_obtained[i])\r\n",
        "plt.title(\"Changed and total grains\")\r\n",
        "plt.xlabel(\"Days\")\r\n",
        "plt.ylabel(\"Number of grains\")\r\n",
        "plt.plot(total_grains_obtained, \"-r\", label = \"total grains obtained\")\r\n",
        "plt.plot(record, \"-b\", label = \"grains of a certain day\")\r\n",
        "plt.legend(loc=\"upper left\")\r\n",
        "plt.show()"
      ],
      "execution_count": 6,
      "outputs": [
        {
          "output_type": "display_data",
          "data": {
            "image/png": "[encoded data removed]",
            "text/plain": [
              "<Figure size 432x288 with 1 Axes>"
            ]
          },
          "metadata": {
            "tags": [],
            "needs_background": "light"
          }
        }
      ]
    },
    {
      "cell_type": "markdown",
      "metadata": {
        "id": "wfk0qFRrnSNW"
      },
      "source": [
        "Problem 2"
      ]
    },
    {
      "cell_type": "code",
      "metadata": {
        "colab": {
          "base_uri": "https://localhost:8080/",
          "height": 312
        },
        "id": "5O2zB4t8nTnf",
        "outputId": "9275558a-c6eb-4a02-df74-cef9e7c09530"
      },
      "source": [
        "import matplotlib.pyplot as plt\r\n",
        "%matplotlib inline\r\n",
        "\r\n",
        "def compute_sorori_shinzaemon(day=100):\r\n",
        "    obtained_grains = INITIAL_GRAINS = 1\r\n",
        "    list_n_grains = [INITIAL_GRAINS]\r\n",
        "    list_total_grains = [INITIAL_GRAINS]\r\n",
        "    for i in range(day):\r\n",
        "      obtained_grains *= 2\r\n",
        "      list_n_grains.append(obtained_grains)\r\n",
        "      list_total_grains.append(obtained_grains + list_total_grains[i])\r\n",
        "    return list_n_grains, list_total_grains\r\n",
        "list_n_grains, list_total_grains = compute_sorori_shinzaemon(day=354) #Assume the total days we need for our course is 354 days\r\n",
        "print(\"After completing this course, we obtained {} grains!\".format(list_total_grains[-1]))\r\n",
        "plt.title(\"Changed and total grains\")\r\n",
        "plt.xlabel(\"Days\")\r\n",
        "plt.ylabel(\"Number of grains\")\r\n",
        "plt.plot(list_n_grains, \"-r\", label = \"total grains obtained\")\r\n",
        "plt.plot(list_total_grains, \"-b\", label = \"grains of a certain day\")\r\n",
        "plt.legend(loc=\"upper left\")\r\n",
        "plt.show()\r\n"
      ],
      "execution_count": 12,
      "outputs": [
        {
          "output_type": "stream",
          "text": [
            "After completing this course, we obtained 73391955711682288371546268649666782105490079653384995959602842860381532034831513858240593699524021969747967 grains!\n"
          ],
          "name": "stdout"
        },
        {
          "output_type": "display_data",
          "data": {
            "image/png": "[encoded data removed]",
            "text/plain": [
              "<Figure size 432x288 with 1 Axes>"
            ]
          },
          "metadata": {
            "tags": [],
            "needs_background": "light"
          }
        }
      ]
    },
    {
      "cell_type": "markdown",
      "metadata": {
        "id": "f7vB4RvLqKdb"
      },
      "source": [
        "Problem 3"
      ]
    },
    {
      "cell_type": "markdown",
      "metadata": {
        "id": "tJ7BMx9Gqy8e"
      },
      "source": [
        "After searching Google, i found out that an adult human needs about 19.200 grains a day to be fed. As you can see, I usually use Google search as my basis of research since it is very straightforward to use and comfortable."
      ]
    },
    {
      "cell_type": "code",
      "metadata": {
        "colab": {
          "base_uri": "https://localhost:8080/"
        },
        "id": "ZWL1qS_ErM8n",
        "outputId": "a5a552eb-230e-4f4e-934c-edd1b4a35d5a"
      },
      "source": [
        "def compute_sorori_shinzaemon(day=100):\r\n",
        "    obtained_grains = INITIAL_GRAINS = 1\r\n",
        "    list_n_grains = [INITIAL_GRAINS]\r\n",
        "    list_total_grains = [INITIAL_GRAINS]\r\n",
        "    for i in range(day):\r\n",
        "      obtained_grains *= 2\r\n",
        "      list_n_grains.append(obtained_grains)\r\n",
        "      list_total_grains.append(obtained_grains + list_total_grains[i])\r\n",
        "    return list_n_grains, list_total_grains\r\n",
        "\r\n",
        "def total_days_of_living(grains, people):\r\n",
        "  #The number of grains to feed an adult person a day is 19.200 grains\r\n",
        "  return grains/(people * 19200)\r\n",
        "\r\n",
        "\r\n",
        "list_n_grains, list_total_grains = compute_sorori_shinzaemon(day=354) #Assume the total days we need for our course is 354 days\r\n",
        "print(\"After completing this course, we obtained {} grains!\".format(list_total_grains[-1]))\r\n",
        "people = input(\"Please input total people:\\n\")\r\n",
        "print(\"This number of grains can feed {} people for {} days\".format(people, total_days_of_living(list_total_grains[-1],  int(people))))\r\n",
        "\r\n"
      ],
      "execution_count": 19,
      "outputs": [
        {
          "output_type": "stream",
          "text": [
            "After completing this course, we obtained 73391955711682288371546268649666782105490079653384995959602842860381532034831513858240593699524021969747967 grains!\n",
            "Please input total people:\n",
            "1000000000\n",
            "This number of grains can feed 1000000000 people for 3.8224976933167856e+93 days\n"
          ],
          "name": "stdout"
        }
      ]
    }
  ]
}